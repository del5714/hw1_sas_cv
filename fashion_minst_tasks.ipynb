{
 "cells": [
  {
   "cell_type": "markdown",
   "metadata": {},
   "source": [
    "# Домашнее задание 1 - Классификация\n",
    "<br>\n",
    "\n",
    "Задание выполнил(а): Мусина Адель (группа М108, ФКИ)\n",
    "<br>\n",
    "(тут сделаны только первые три задания)\n",
    "<br>\n",
    "**Дедлайн:** 27.10.2020 23:59\n",
    "\n",
    "\n",
    "### О задании\n",
    "В этом домашнем задании вы научитесь работать с CAS при помощи библиотеки swat, познакомитесь c библиотекой dlpy, позволяющей использовать функциональность SAS для глубинного обучения из Python, а так же постороите с помощью этих библиотек модель для классификации изображений одежды.\n",
    "<br>\n",
    "Для выполнения заданий нужно самостоятельно написать или дополнить написанный код, а так же письменно ответить на вопросы (в зависимости от задания).\n",
    "\n",
    "**Домашнее задание построено следующим образом:**\n",
    "- Подключение к серверу CAS\n",
    "- Задание 1: Загрузка данных в CAS (1 балл)\n",
    "- Задание 2: Посмотрим на данные (1 балл)\n",
    "- Задание 3: Выделение валидационной выборки из train (1 балл)\n",
    "- Задание 4: Построение нейронной сети (3 балла)\n",
    "- Задание 5: Обучение сети (2 балла)\n",
    "- Задание 6: Оценка качества полученной модели (2 балла)\n",
    "- Дополнительное задание: Aугментации исходных данных (+2 балла)<br>\n",
    "\n",
    "Итого, полностью выполнив задание вы получите 10 баллов. Вы также можете выполнить дополнительное задание, чтобы получить еще 2 бонусных балла.\n",
    "\n",
    "### Формат сдачи\n",
    "\n",
    "После того, как вы выполните домашную работу, поместите jupyter notebook с выполнеными заданиями, а так же все SAS-таблицы с сохраненными моделями в закрытый git-репозиторий на GitHub. Предоставьте доступ к репозиторию аккаунтам GazizovMarat и Ala1s (добавив в свой реппозиторий в качестве коллабораторов).\n",
    "\n",
    "### Важно \n",
    "Для того, чтобы ваши результаты были воспроизводимыми для проверки, указывайте seed при вызове методов, где это возможно. Напоминания об этом так же содержатся в тексте заданий."
   ]
  },
  {
   "cell_type": "code",
   "execution_count": 58,
   "metadata": {},
   "outputs": [
    {
     "name": "stdout",
     "output_type": "stream",
     "text": [
      "WARNING: pip is being invoked by an old script wrapper. This will fail in a future version of pip.\n",
      "Please see https://github.com/pypa/pip/issues/5599 for advice on fixing the underlying issue.\n",
      "To avoid this problem you can invoke Python with '-m pip' instead of running pip directly.\n",
      "Requirement already satisfied: sas-dlpy in /var/home/msu82/.local/lib/python3.6/site-packages (1.2.0)\n",
      "Requirement already satisfied: swat>=1.5.0 in /var/home/msu82/.local/lib/python3.6/site-packages (from sas-dlpy) (1.8.1)\n",
      "Requirement already satisfied: pandas>=0.16.0 in /usr/local/lib64/python3.6/site-packages (from sas-dlpy) (1.1.5)\n",
      "Requirement already satisfied: six>=1.9.0 in /usr/lib/python3.6/site-packages (from sas-dlpy) (1.14.0)\n",
      "Requirement already satisfied: graphviz in /var/home/msu82/.local/lib/python3.6/site-packages (from sas-dlpy) (0.16)\n",
      "Requirement already satisfied: matplotlib in /var/home/msu82/.local/lib/python3.6/site-packages (from sas-dlpy) (3.3.4)\n",
      "Requirement already satisfied: pillow in /var/home/msu82/.local/lib/python3.6/site-packages (from sas-dlpy) (8.2.0)\n",
      "Requirement already satisfied: python-dateutil>=2.7.3 in /usr/local/lib/python3.6/site-packages (from pandas>=0.16.0->sas-dlpy) (2.8.1)\n",
      "Requirement already satisfied: pytz>=2017.2 in /usr/local/lib/python3.6/site-packages (from pandas>=0.16.0->sas-dlpy) (2021.1)\n",
      "Requirement already satisfied: numpy>=1.15.4 in /usr/local/lib64/python3.6/site-packages (from pandas>=0.16.0->sas-dlpy) (1.19.5)\n",
      "Requirement already satisfied: requests in /usr/lib/python3.6/site-packages (from swat>=1.5.0->sas-dlpy) (2.14.2)\n",
      "Requirement already satisfied: kiwisolver>=1.0.1 in /var/home/msu82/.local/lib/python3.6/site-packages (from matplotlib->sas-dlpy) (1.3.1)\n",
      "Requirement already satisfied: cycler>=0.10 in /var/home/msu82/.local/lib/python3.6/site-packages (from matplotlib->sas-dlpy) (0.10.0)\n",
      "Requirement already satisfied: pyparsing!=2.0.4,!=2.1.2,!=2.1.6,>=2.0.3 in /var/home/msu82/.local/lib/python3.6/site-packages (from matplotlib->sas-dlpy) (2.4.7)\n",
      "Requirement already satisfied: urllib3>=1.21.1 in /usr/lib/python3.6/site-packages (from requests->swat>=1.5.0->sas-dlpy) (1.25.6)\n"
     ]
    }
   ],
   "source": [
    "!pip3 install sas-dlpy --user"
   ]
  },
  {
   "cell_type": "code",
   "execution_count": 59,
   "metadata": {},
   "outputs": [
    {
     "name": "stdout",
     "output_type": "stream",
     "text": [
      "WARNING: pip is being invoked by an old script wrapper. This will fail in a future version of pip.\n",
      "Please see https://github.com/pypa/pip/issues/5599 for advice on fixing the underlying issue.\n",
      "To avoid this problem you can invoke Python with '-m pip' instead of running pip directly.\n",
      "Requirement already satisfied: opencv-python in /var/home/msu82/.local/lib/python3.6/site-packages (4.5.1.48)\n",
      "Requirement already satisfied: numpy>=1.13.3 in /usr/local/lib64/python3.6/site-packages (from opencv-python) (1.19.5)\n"
     ]
    }
   ],
   "source": [
    "!pip3 install opencv-python --user"
   ]
  },
  {
   "cell_type": "code",
   "execution_count": 60,
   "metadata": {},
   "outputs": [],
   "source": [
    "import os\n",
    "import numpy as np\n",
    "import cv2\n",
    "from tqdm import tqdm\n",
    "import matplotlib.pyplot as plt\n",
    "%matplotlib inline\n",
    "\n",
    "from swat import *\n",
    "from dlpy import Model, Sequential\n",
    "from dlpy.layers import *\n",
    "from dlpy.images import ImageTable\n",
    "from dlpy.splitting import two_way_split"
   ]
  },
  {
   "cell_type": "markdown",
   "metadata": {},
   "source": [
    "## Подключение к серверу CAS"
   ]
  },
  {
   "cell_type": "markdown",
   "metadata": {},
   "source": [
    "Подключитесь к серверу CAS под своим логином и паролем.<br>Загрузите следующие Action Sets: 'image','deepLearn'.<br>\n",
    "<br>\n",
    "Для выполнения задания обратитесь к документации по следующим ссылкам: <br>\n",
    "- https://sassoftware.github.io/python-swat/getting-started.html <br>"
   ]
  },
  {
   "cell_type": "code",
   "execution_count": 61,
   "metadata": {},
   "outputs": [
    {
     "name": "stdout",
     "output_type": "stream",
     "text": [
      "NOTE: Added action set 'image'.\n",
      "NOTE: Added action set 'deepLearn'.\n",
      "NOTE: Added action set 'datastep'.\n"
     ]
    },
    {
     "data": {
      "text/html": [
       "<div class=\"cas-results-key\"><b>&#167; actionset</b></div>\n",
       "<div class=\"cas-results-body\">\n",
       "<div>datastep</div>\n",
       "</div>\n",
       "<div class=\"cas-output-area\"></div>\n",
       "<p class=\"cas-results-performance\"><small><span class=\"cas-elapsed\">elapsed 0.000426s</span> &#183; <span class=\"cas-user\">user 0.000216s</span> &#183; <span class=\"cas-sys\">sys 0.000153s</span> &#183; <span class=\"cas-memory\">mem 0.203MB</span></small></p>"
      ],
      "text/plain": [
       "[actionset]\n",
       "\n",
       " 'datastep'\n",
       "\n",
       "+ Elapsed: 0.000426s, user: 0.000216s, sys: 0.000153s, mem: 0.203mb"
      ]
     },
     "execution_count": 61,
     "metadata": {},
     "output_type": "execute_result"
    }
   ],
   "source": [
    "#os.environ['CAS_CLIENT_SSL_CA_LIST'] = r\"/tmp/4fix/trustedcerts.pem\"\n",
    "\n",
    "# Создаем новую сессию CAS:\n",
    "\n",
    "s = CAS('tiger.cs.msu.ru', 5570, username='msu82', password='FerMat*1n@')\n",
    "\n",
    "# Загружаем action sets:\n",
    "\n",
    "s.loadactionset('image')\n",
    "s.loadactionset('deepLearn')\n",
    "s.loadactionset('datastep')"
   ]
  },
  {
   "cell_type": "markdown",
   "metadata": {},
   "source": [
    "#### Загрузка данных\n",
    "Для работы с изображениями в SAS DLPy используются специализированные таблицы - ImageTable. Для загрузки набора данных, помимо сессии CAS и названия для новой таблицы, требуется указать путь к папке с набором данных сервере. \n",
    "При загрузке нужно указать путь к папке, устроенной следующим образом: <br>\n",
    "* shirt\n",
    "    - shirt_image0.png\n",
    "    - shirt_image1.png\n",
    "    - ...\n",
    "* pants\n",
    "    - pants_image0.png\n",
    "    - pants_image1.png\n",
    "    - ...\n",
    "* ... \n",
    "<br>\n",
    "То есть, папка должна состоять из подпапок, называющихся соответственно классам обьектов на изображении. В каждой из таких подпапок должны лежать все изобращения с обьектами соответствующего класса.<br>\n",
    "Папки train-images (обучающая выборка) и t10k-images (тестовая выборка) внутри папки data в этом репозитории устроены описанным выше образом. \n",
    "Также, данные fashion-MNIST можно скачать из следующего репозитория:<br> \n",
    "- https://github.com/zalandoresearch/fashion-mnist <br>\n",
    "\n",
    "**Задание 1: Загрузка данных в CAS**<br>\n",
    "Загрузите обучающие и тестовые данные в CAS, создав ImageTable (для каждой выборки отдельно)."
   ]
  },
  {
   "cell_type": "code",
   "execution_count": 62,
   "metadata": {},
   "outputs": [],
   "source": [
    "# создайте ImageTable для обучающей выборки #\n",
    "train = ImageTable.load_files(s, path = '/var/home/msu82/hw/SAS-CV-2020-Homework1/data/train-images')"
   ]
  },
  {
   "cell_type": "code",
   "execution_count": 63,
   "metadata": {},
   "outputs": [],
   "source": [
    "# создайте ImageTable для тестовой выборки #\n",
    "test = ImageTable.load_files(s, path = '/var/home/msu82/hw/SAS-CV-2020-Homework1/data/t10k-images')"
   ]
  },
  {
   "cell_type": "markdown",
   "metadata": {},
   "source": [
    "**Задание 2: Исследование данных**<br>\n",
    "а) С помощью метода show выведите 16 случайных изображений из ImageTable в таблице размером 4x4 ячейки (для train и test отдельно)."
   ]
  },
  {
   "cell_type": "code",
   "execution_count": 73,
   "metadata": {
    "scrolled": true
   },
   "outputs": [
    {
     "data": {
      "image/png": "[encoded data removed]",
      "text/plain": [
       "<Figure size 576x576 with 16 Axes>"
      ]
     },
     "metadata": {},
     "output_type": "display_data"
    }
   ],
   "source": [
    "# выведите 16 изображений из обучающей выборки\n",
    "train.show(nimages = 16, ncol = 4, randomize = True, figsize = (8,8))"
   ]
  },
  {
   "cell_type": "code",
   "execution_count": 74,
   "metadata": {},
   "outputs": [
    {
     "data": {
      "image/png": "[encoded data removed]",
      "text/plain": [
       "<Figure size 576x576 with 16 Axes>"
      ]
     },
     "metadata": {},
     "output_type": "display_data"
    }
   ],
   "source": [
    "# выведите 16 изображений из тестовой выборки #\n",
    "test.show(nimages = 16, ncol = 4, randomize = True, figsize = (8,8))"
   ]
  },
  {
   "cell_type": "markdown",
   "metadata": {},
   "source": [
    "b) Найдите метод класса ImageTable, позволяющий подсчитать статистику по метаданным таблицы (например, средние размеры или значения пикселей). Примените этот метод к таблицам, в которые вы загрузили наборы данных train и test."
   ]
  },
  {
   "cell_type": "code",
   "execution_count": 75,
   "metadata": {},
   "outputs": [
    {
     "data": {
      "text/plain": [
       "jpg                 60000\n",
       "minWidth               28\n",
       "maxWidth               28\n",
       "minHeight              28\n",
       "maxHeight              28\n",
       "meanWidth              28\n",
       "meanHeight             28\n",
       "mean1stChannel    72.9404\n",
       "min1stChannel           0\n",
       "max1stChannel         255\n",
       "mean2ndChannel          0\n",
       "min2ndChannel           0\n",
       "max2ndChannel           0\n",
       "mean3rdChannel          0\n",
       "min3rdChannel           0\n",
       "max3rdChannel           0\n",
       "dtype: object"
      ]
     },
     "execution_count": 75,
     "metadata": {},
     "output_type": "execute_result"
    }
   ],
   "source": [
    "# статистики по метаданным для train #\n",
    "train.image_summary"
   ]
  },
  {
   "cell_type": "code",
   "execution_count": 76,
   "metadata": {},
   "outputs": [
    {
     "data": {
      "text/plain": [
       "jpg                 10000\n",
       "minWidth               28\n",
       "maxWidth               28\n",
       "minHeight              28\n",
       "maxHeight              28\n",
       "meanWidth              28\n",
       "meanHeight             28\n",
       "mean1stChannel    73.1466\n",
       "min1stChannel           0\n",
       "max1stChannel         255\n",
       "mean2ndChannel          0\n",
       "min2ndChannel           0\n",
       "max2ndChannel           0\n",
       "mean3rdChannel          0\n",
       "min3rdChannel           0\n",
       "max3rdChannel           0\n",
       "dtype: object"
      ]
     },
     "execution_count": 76,
     "metadata": {},
     "output_type": "execute_result"
    }
   ],
   "source": [
    "# статистики по метаданным для test #\n",
    "test.image_summary"
   ]
  },
  {
   "cell_type": "markdown",
   "metadata": {},
   "source": [
    "**Задание 3: Выделение валидационной выборки из train**<br>\n",
    "- Перед тем, как выделить из train выборку для валидации модели, посмотрите на распределение классов (с помощью свойства ImageTable).\n",
    "- Выделите из таблицы train выборку в размере 15 процентов от исходного с помощью two_way_split. Убедитесь, что вы задали seed, для того, чтобы мы могли воспроизвести и проверить ваши результаты), а возвращаемые таблицы - типа ImageTable, как и исходная.\n",
    "- После выделения validate выборки, снова посмотрите на распреление классов на train и validate выборках, чтобы убедиться, что в обеих выборках присутстует равное количество примеров для каждого из классов."
   ]
  },
  {
   "cell_type": "code",
   "execution_count": 77,
   "metadata": {},
   "outputs": [
    {
     "data": {
      "text/html": [
       "<div>\n",
       "<style scoped>\n",
       "    .dataframe tbody tr th:only-of-type {\n",
       "        vertical-align: middle;\n",
       "    }\n",
       "\n",
       "    .dataframe tbody tr th {\n",
       "        vertical-align: top;\n",
       "    }\n",
       "\n",
       "    .dataframe thead th {\n",
       "        text-align: right;\n",
       "    }\n",
       "</style>\n",
       "<table border=\"1\" class=\"dataframe\"><caption>Frequency for IMAGEDATA_VZG0ZX</caption>\n",
       "  <thead>\n",
       "    <tr style=\"text-align: right;\">\n",
       "      <th title=\"\"></th>\n",
       "      <th title=\"Level\">Level</th>\n",
       "      <th title=\"Frequency\">Frequency</th>\n",
       "    </tr>\n",
       "  </thead>\n",
       "  <tbody>\n",
       "    <tr>\n",
       "      <th>Ankle_boot</th>\n",
       "      <td>1</td>\n",
       "      <td>6000</td>\n",
       "    </tr>\n",
       "    <tr>\n",
       "      <th>Bag</th>\n",
       "      <td>2</td>\n",
       "      <td>6000</td>\n",
       "    </tr>\n",
       "    <tr>\n",
       "      <th>Coat</th>\n",
       "      <td>3</td>\n",
       "      <td>6000</td>\n",
       "    </tr>\n",
       "    <tr>\n",
       "      <th>Dress</th>\n",
       "      <td>4</td>\n",
       "      <td>6000</td>\n",
       "    </tr>\n",
       "    <tr>\n",
       "      <th>Pullover</th>\n",
       "      <td>5</td>\n",
       "      <td>6000</td>\n",
       "    </tr>\n",
       "    <tr>\n",
       "      <th>Sandal</th>\n",
       "      <td>6</td>\n",
       "      <td>6000</td>\n",
       "    </tr>\n",
       "    <tr>\n",
       "      <th>Shirt</th>\n",
       "      <td>7</td>\n",
       "      <td>6000</td>\n",
       "    </tr>\n",
       "    <tr>\n",
       "      <th>Sneaker</th>\n",
       "      <td>8</td>\n",
       "      <td>6000</td>\n",
       "    </tr>\n",
       "    <tr>\n",
       "      <th>T-shirt|top</th>\n",
       "      <td>9</td>\n",
       "      <td>6000</td>\n",
       "    </tr>\n",
       "    <tr>\n",
       "      <th>Trouser</th>\n",
       "      <td>10</td>\n",
       "      <td>6000</td>\n",
       "    </tr>\n",
       "  </tbody>\n",
       "</table>\n",
       "</div>"
      ],
      "text/plain": [
       "Frequency for IMAGEDATA_VZG0ZX\n",
       "\n",
       "             Level  Frequency\n",
       "Ankle_boot       1       6000\n",
       "Bag              2       6000\n",
       "Coat             3       6000\n",
       "Dress            4       6000\n",
       "Pullover         5       6000\n",
       "Sandal           6       6000\n",
       "Shirt            7       6000\n",
       "Sneaker          8       6000\n",
       "T-shirt|top      9       6000\n",
       "Trouser         10       6000"
      ]
     },
     "execution_count": 77,
     "metadata": {},
     "output_type": "execute_result"
    }
   ],
   "source": [
    "train.label_freq"
   ]
  },
  {
   "cell_type": "code",
   "execution_count": 78,
   "metadata": {},
   "outputs": [],
   "source": [
    "#test.label_freq"
   ]
  },
  {
   "cell_type": "code",
   "execution_count": 79,
   "metadata": {},
   "outputs": [],
   "source": [
    "# код для деления на 2 выборки /seed = 123\n",
    "train_data, val_data = two_way_split(train, test_rate = 15, seed = 123)"
   ]
  },
  {
   "cell_type": "code",
   "execution_count": 80,
   "metadata": {},
   "outputs": [
    {
     "data": {
      "text/html": [
       "<div>\n",
       "<style scoped>\n",
       "    .dataframe tbody tr th:only-of-type {\n",
       "        vertical-align: middle;\n",
       "    }\n",
       "\n",
       "    .dataframe tbody tr th {\n",
       "        vertical-align: top;\n",
       "    }\n",
       "\n",
       "    .dataframe thead th {\n",
       "        text-align: right;\n",
       "    }\n",
       "</style>\n",
       "<table border=\"1\" class=\"dataframe\"><caption>Frequency for TRAIN_3HZ1AP</caption>\n",
       "  <thead>\n",
       "    <tr style=\"text-align: right;\">\n",
       "      <th title=\"\"></th>\n",
       "      <th title=\"Level\">Level</th>\n",
       "      <th title=\"Frequency\">Frequency</th>\n",
       "    </tr>\n",
       "  </thead>\n",
       "  <tbody>\n",
       "    <tr>\n",
       "      <th>Ankle_boot</th>\n",
       "      <td>1</td>\n",
       "      <td>5100</td>\n",
       "    </tr>\n",
       "    <tr>\n",
       "      <th>Bag</th>\n",
       "      <td>2</td>\n",
       "      <td>5100</td>\n",
       "    </tr>\n",
       "    <tr>\n",
       "      <th>Coat</th>\n",
       "      <td>3</td>\n",
       "      <td>5100</td>\n",
       "    </tr>\n",
       "    <tr>\n",
       "      <th>Dress</th>\n",
       "      <td>4</td>\n",
       "      <td>5100</td>\n",
       "    </tr>\n",
       "    <tr>\n",
       "      <th>Pullover</th>\n",
       "      <td>5</td>\n",
       "      <td>5100</td>\n",
       "    </tr>\n",
       "    <tr>\n",
       "      <th>Sandal</th>\n",
       "      <td>6</td>\n",
       "      <td>5100</td>\n",
       "    </tr>\n",
       "    <tr>\n",
       "      <th>Shirt</th>\n",
       "      <td>7</td>\n",
       "      <td>5100</td>\n",
       "    </tr>\n",
       "    <tr>\n",
       "      <th>Sneaker</th>\n",
       "      <td>8</td>\n",
       "      <td>5100</td>\n",
       "    </tr>\n",
       "    <tr>\n",
       "      <th>T-shirt|top</th>\n",
       "      <td>9</td>\n",
       "      <td>5100</td>\n",
       "    </tr>\n",
       "    <tr>\n",
       "      <th>Trouser</th>\n",
       "      <td>10</td>\n",
       "      <td>5100</td>\n",
       "    </tr>\n",
       "  </tbody>\n",
       "</table>\n",
       "</div>"
      ],
      "text/plain": [
       "Frequency for TRAIN_3HZ1AP\n",
       "\n",
       "             Level  Frequency\n",
       "Ankle_boot       1       5100\n",
       "Bag              2       5100\n",
       "Coat             3       5100\n",
       "Dress            4       5100\n",
       "Pullover         5       5100\n",
       "Sandal           6       5100\n",
       "Shirt            7       5100\n",
       "Sneaker          8       5100\n",
       "T-shirt|top      9       5100\n",
       "Trouser         10       5100"
      ]
     },
     "execution_count": 80,
     "metadata": {},
     "output_type": "execute_result"
    }
   ],
   "source": [
    "train_data.label_freq"
   ]
  },
  {
   "cell_type": "code",
   "execution_count": 81,
   "metadata": {},
   "outputs": [
    {
     "data": {
      "text/html": [
       "<div>\n",
       "<style scoped>\n",
       "    .dataframe tbody tr th:only-of-type {\n",
       "        vertical-align: middle;\n",
       "    }\n",
       "\n",
       "    .dataframe tbody tr th {\n",
       "        vertical-align: top;\n",
       "    }\n",
       "\n",
       "    .dataframe thead th {\n",
       "        text-align: right;\n",
       "    }\n",
       "</style>\n",
       "<table border=\"1\" class=\"dataframe\"><caption>Frequency for TEST_QIDIVN</caption>\n",
       "  <thead>\n",
       "    <tr style=\"text-align: right;\">\n",
       "      <th title=\"\"></th>\n",
       "      <th title=\"Level\">Level</th>\n",
       "      <th title=\"Frequency\">Frequency</th>\n",
       "    </tr>\n",
       "  </thead>\n",
       "  <tbody>\n",
       "    <tr>\n",
       "      <th>Ankle_boot</th>\n",
       "      <td>1</td>\n",
       "      <td>900</td>\n",
       "    </tr>\n",
       "    <tr>\n",
       "      <th>Bag</th>\n",
       "      <td>2</td>\n",
       "      <td>900</td>\n",
       "    </tr>\n",
       "    <tr>\n",
       "      <th>Coat</th>\n",
       "      <td>3</td>\n",
       "      <td>900</td>\n",
       "    </tr>\n",
       "    <tr>\n",
       "      <th>Dress</th>\n",
       "      <td>4</td>\n",
       "      <td>900</td>\n",
       "    </tr>\n",
       "    <tr>\n",
       "      <th>Pullover</th>\n",
       "      <td>5</td>\n",
       "      <td>900</td>\n",
       "    </tr>\n",
       "    <tr>\n",
       "      <th>Sandal</th>\n",
       "      <td>6</td>\n",
       "      <td>900</td>\n",
       "    </tr>\n",
       "    <tr>\n",
       "      <th>Shirt</th>\n",
       "      <td>7</td>\n",
       "      <td>900</td>\n",
       "    </tr>\n",
       "    <tr>\n",
       "      <th>Sneaker</th>\n",
       "      <td>8</td>\n",
       "      <td>900</td>\n",
       "    </tr>\n",
       "    <tr>\n",
       "      <th>T-shirt|top</th>\n",
       "      <td>9</td>\n",
       "      <td>900</td>\n",
       "    </tr>\n",
       "    <tr>\n",
       "      <th>Trouser</th>\n",
       "      <td>10</td>\n",
       "      <td>900</td>\n",
       "    </tr>\n",
       "  </tbody>\n",
       "</table>\n",
       "</div>"
      ],
      "text/plain": [
       "Frequency for TEST_QIDIVN\n",
       "\n",
       "             Level  Frequency\n",
       "Ankle_boot       1        900\n",
       "Bag              2        900\n",
       "Coat             3        900\n",
       "Dress            4        900\n",
       "Pullover         5        900\n",
       "Sandal           6        900\n",
       "Shirt            7        900\n",
       "Sneaker          8        900\n",
       "T-shirt|top      9        900\n",
       "Trouser         10        900"
      ]
     },
     "execution_count": 81,
     "metadata": {},
     "output_type": "execute_result"
    }
   ],
   "source": [
    "val_data.label_freq"
   ]
  },
  {
   "attachments": {
    "model.PNG": {
     "image/png": "[encoded data removed]"
    }
   },
   "cell_type": "markdown",
   "metadata": {},
   "source": [
    "**Задание 4: Построение модели**<br>\n",
    "Постройте модель, соответствующую изображенной на картинке, c помощью dlpy в Sequential-подходе.\n",
    "![model.PNG](attachment:model.PNG)"
   ]
  },
  {
   "cell_type": "code",
   "execution_count": null,
   "metadata": {},
   "outputs": [],
   "source": [
    "# код для построения модели #"
   ]
  },
  {
   "cell_type": "markdown",
   "metadata": {},
   "source": [
    "**Задание 5: Oбучение модели**<br>\n",
    "а) Обучите построенную модель. Гиперпараметры для обучения уже заданы, менять их не требуется. Не забудьте задать seed, чтобы  ваши результаты были воспроизводимыми. Полученная вами модель должна показать Miscalssification Rate < 15% на тестовой выборке."
   ]
  },
  {
   "cell_type": "code",
   "execution_count": null,
   "metadata": {},
   "outputs": [],
   "source": [
    "from dlpy.model import *\n",
    "from dlpy.model import Optimizer\n",
    "from dlpy.lr_scheduler import *"
   ]
  },
  {
   "cell_type": "code",
   "execution_count": null,
   "metadata": {},
   "outputs": [],
   "source": [
    "# Variable for Number of Epochs\n",
    "nEpoch=50\n",
    "\n",
    "# Variable for Number of Threads\n",
    "nThread=4\n",
    "\n",
    "# Variable for Batch Size\n",
    "batchSize=128\n",
    "\n",
    "# Calculate miniBatch Size\n",
    "miniBatch=math.ceil(batchSize/nThread)\n",
    "\n",
    "# Define Learning Rate scheduler parameters\n",
    "lr_scheduler=ReduceLROnPlateau(conn=s, \n",
    "                               cool_down_iters=3, \n",
    "                               gamma=0.8, \n",
    "                               learning_rate=0.001, \n",
    "                               patience=5\n",
    "                               )\n",
    "\n",
    "# Define Momentum Solver parameters\n",
    "solver=MomentumSolver(lr_scheduler=lr_scheduler,\n",
    "                      clip_grad_max = 100, \n",
    "                      clip_grad_min = -100\n",
    "                      )                       \n",
    "\n",
    "# Define Solver optimizer parameter settings\n",
    "optimizer=Optimizer(seed=12345, \n",
    "                    algorithm=solver, \n",
    "                    mini_batch_size = miniBatch, \n",
    "                    log_level=2, \n",
    "                    max_epochs=nEpoch, \n",
    "                    reg_l2=0.0005\n",
    "                    )\n"
   ]
  },
  {
   "cell_type": "code",
   "execution_count": null,
   "metadata": {},
   "outputs": [],
   "source": [
    "# код для обучения модели\n",
    "train_history = model.fit("
   ]
  },
  {
   "attachments": {
    "training.PNG": {
     "image/png": "[encoded data removed]"
    }
   },
   "cell_type": "markdown",
   "metadata": {},
   "source": [
    "b) Пользуясь значениями в history, постройте график, анологичный изображенному.\n",
    "![training.PNG](attachment:training.PNG)"
   ]
  },
  {
   "cell_type": "code",
   "execution_count": null,
   "metadata": {},
   "outputs": [],
   "source": [
    "history = train_history[\"OptIterHistory\"]\n",
    "\n",
    "#код для построения графика#"
   ]
  },
  {
   "cell_type": "markdown",
   "metadata": {},
   "source": [
    "**Задание 6: Oценка качества модели**<br>"
   ]
  },
  {
   "cell_type": "markdown",
   "metadata": {},
   "source": [
    "а) Выведите матрицу ошибок на валидационной выборке для модели и ответьте на следующие вопросы:\n",
    "- Сколько изображений сумок было корректно классифицированно моделью?\n",
    "- Сколько пулловеров было классифицированно моделью как рубашки? Наоборот?\n",
    "- В классификации какого предмета одежды модель ошибалась чаще всего? А реже всего?"
   ]
  },
  {
   "cell_type": "code",
   "execution_count": null,
   "metadata": {},
   "outputs": [],
   "source": [
    "# код для вывода матрицы ошибок#"
   ]
  },
  {
   "cell_type": "markdown",
   "metadata": {},
   "source": [
    "Ваши ответы на вопросы:\n",
    "1)\n",
    "2)\n",
    "3)"
   ]
  },
  {
   "cell_type": "markdown",
   "metadata": {},
   "source": [
    "b) Проскорьте модель на тестовой выборке."
   ]
  },
  {
   "cell_type": "code",
   "execution_count": null,
   "metadata": {},
   "outputs": [],
   "source": [
    "# код для скоринга #"
   ]
  },
  {
   "cell_type": "markdown",
   "metadata": {},
   "source": [
    "c) Выведите пример изображения, классифицированного верно, с помощью встроенной функции класса Model."
   ]
  },
  {
   "cell_type": "code",
   "execution_count": null,
   "metadata": {},
   "outputs": [],
   "source": [
    "# код для вывода верно классифицированного изображения#"
   ]
  },
  {
   "cell_type": "markdown",
   "metadata": {},
   "source": [
    "d) Выведите пример изображения, классифицированного ошибочно, с помощью встроенной функции класса Model."
   ]
  },
  {
   "cell_type": "code",
   "execution_count": null,
   "metadata": {},
   "outputs": [],
   "source": [
    "# код для вывода неверно классифицированного изображения#"
   ]
  },
  {
   "cell_type": "markdown",
   "metadata": {},
   "source": [
    "e) Сохраните полученную модель в SAS-таблицу, с помощью одного из методов класса Model."
   ]
  },
  {
   "cell_type": "code",
   "execution_count": null,
   "metadata": {},
   "outputs": [],
   "source": [
    "# код для сохранения модели #"
   ]
  },
  {
   "cell_type": "markdown",
   "metadata": {},
   "source": [
    "**Дополнительное задание: Aугментации исходных данных**<br>\n",
    "Изучите документацию к CAS-action augmentImages. Попробуйте улучшить результат предыдущей модели, применив аугментации к исходным данным и, по желанию, другие техники для улучшения качества модели. Полученную модель проскорьте на тестовой выборке и сохраните в SAS-таблицу. Выведите метрики качества новой модели на тестовой выборке."
   ]
  },
  {
   "cell_type": "code",
   "execution_count": null,
   "metadata": {},
   "outputs": [],
   "source": [
    "s.augmentImages(table=train_data,"
   ]
  }
 ],
 "metadata": {
  "kernelspec": {
   "display_name": "Python 3",
   "language": "python",
   "name": "python3"
  },
  "language_info": {
   "codemirror_mode": {
    "name": "ipython",
    "version": 3
   },
   "file_extension": ".py",
   "mimetype": "text/x-python",
   "name": "python",
   "nbconvert_exporter": "python",
   "pygments_lexer": "ipython3",
   "version": "3.7.6"
  }
 },
 "nbformat": 4,
 "nbformat_minor": 4
}
